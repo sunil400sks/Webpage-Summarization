{
 "cells": [
  {
   "cell_type": "code",
   "execution_count": 1,
   "metadata": {},
   "outputs": [
    {
     "ename": "SyntaxError",
     "evalue": "invalid syntax (<ipython-input-1-9f68e1bcd957>, line 2)",
     "output_type": "error",
     "traceback": [
      "\u001b[1;36m  File \u001b[1;32m\"<ipython-input-1-9f68e1bcd957>\"\u001b[1;36m, line \u001b[1;32m2\u001b[0m\n\u001b[1;33m    from textsummarizer 1.0 import *\u001b[0m\n\u001b[1;37m                          ^\u001b[0m\n\u001b[1;31mSyntaxError\u001b[0m\u001b[1;31m:\u001b[0m invalid syntax\n"
     ]
    }
   ],
   "source": [
    "from textsummarizer 1.0 import *\n",
    "from flask import Flask, request, jsonify, render_template\n",
    "\n",
    "app = Flask(__name__)\n",
    "\n",
    "@app.route('/')\n",
    "def home():\n",
    "    return render_template('index 1.0.html')\n",
    "\n",
    "@app.route('/summarize',methods=['POST'])\n",
    "def summarize():\n",
    "    \n",
    "    if request.method == 'POST':\n",
    "        \n",
    "        URL = request.form['originalText']\n",
    "        if not request.form['numOfLines']:\n",
    "            numOfLines = 3\n",
    "        else:\n",
    "            numOfLines = int(request.form['numOfLines'])\n",
    "        \n",
    "        r = requests.get(URL)\n",
    "        soup = BeautifulSoup(r.text, 'html.parser')\n",
    "        results = soup.find_all(['h1', 'p'])\n",
    "        text = [result.text for result in results]\n",
    "        ARTICLE = ' '.join(text)\n",
    "        \n",
    "        summary, original_length = generate_summary(ARTICLE,numOfLines)\n",
    "        \n",
    "        return render_template('result.html',\n",
    "                               text_summary=summary,\n",
    "                               lines_original = original_length,\n",
    "                               lines_summary = numOfLines)\n",
    "\n",
    "@app.route('/summarize1',methods=['POST'])\n",
    "def summarize1():\n",
    "    \n",
    "    if request.method == 'POST':\n",
    "        \n",
    "        ARTICLE = request.form['originalText']\n",
    "        if not request.form['numOfLines']:\n",
    "            numOfLines = 3\n",
    "        else:\n",
    "            numOfLines = int(request.form['numOfLines'])\n",
    "        \n",
    "       \n",
    "        \n",
    "        summary1, original_length = generate_summary(ARTICLE,numOfLines)\n",
    "        \n",
    "        return render_template('result.html',\n",
    "                               text_summary=summary1,\n",
    "                               lines_original = original_length,\n",
    "                               lines_summary = numOfLines)\n",
    "    \n",
    "    \n",
    "if __name__ == '__main__':\n",
    "    app.run(debug=True, use_reloader=False )"
   ]
  },
  {
   "cell_type": "code",
   "execution_count": null,
   "metadata": {},
   "outputs": [],
   "source": []
  }
 ],
 "metadata": {
  "kernelspec": {
   "display_name": "Python 3",
   "language": "python",
   "name": "python3"
  },
  "language_info": {
   "codemirror_mode": {
    "name": "ipython",
    "version": 3
   },
   "file_extension": ".py",
   "mimetype": "text/x-python",
   "name": "python",
   "nbconvert_exporter": "python",
   "pygments_lexer": "ipython3",
   "version": "3.7.3"
  }
 },
 "nbformat": 4,
 "nbformat_minor": 2
}
